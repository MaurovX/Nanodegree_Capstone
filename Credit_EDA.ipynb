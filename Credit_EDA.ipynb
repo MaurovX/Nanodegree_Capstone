{
 "cells": [
  {
   "cell_type": "markdown",
   "metadata": {},
   "source": [
    "# Give me some Credit \n"
   ]
  },
  {
   "cell_type": "markdown",
   "metadata": {},
   "source": [
    "Use CRISP-DM to answer some issues related to GiveMe some credit Kaggle competition"
   ]
  },
  {
   "cell_type": "markdown",
   "metadata": {},
   "source": [
    "### Environment Setup"
   ]
  },
  {
   "cell_type": "code",
   "execution_count": 2,
   "metadata": {},
   "outputs": [
    {
     "name": "stderr",
     "output_type": "stream",
     "text": [
      "UsageError: Line magic function `%matploblib` not found.\n"
     ]
    }
   ],
   "source": [
    "import numpy as np               # Array, Vector, matrix calculations\n",
    "import pandas as pd              # DataFrame handling\n",
    "import matplotlib.pyplot as plt  # Plotting\n",
    "pd.options.display.max_columns = 999\n",
    "\n",
    "%matploblib inline\n",
    "np.random.seed(42)               # Answer to everything"
   ]
  },
  {
   "cell_type": "markdown",
   "metadata": {},
   "source": [
    "## 1. Download, Explore and prepare Kaggle competition dataset"
   ]
  },
  {
   "cell_type": "markdown",
   "metadata": {},
   "source": [
    "Give me some credit dataset:\n",
    "    https://www.kaggle.com/c/GiveMeSomeCredit/data\n",
    "    \n",
    "The Give Me Some credit dataset contains 12 variables related to the financial behaviour and position of customers, these are:\n",
    "\n",
    "- **SeriousDlqin2yrs:** Person Experienced 90 days past due delinquency or worse\n",
    "- **RevolvingUtilizationOfUnsecuredLines:** Total balance on credit cards and personal lines of credit, divided by the sum of credit limits\n",
    "- **Age:** Age borrower in years\n",
    "- **NumberOfTime30-59DaysPastDueNotWorse:** Number of times the borrower has been 30-59 days past due but not worse in the last 2 years\n",
    "- **DebtRatio:** Monthly debt payments, alimony, living costs divided by monthly gross income\n",
    "- **MonthlyIncome:** Monthly Income of customer\n",
    "- **NumberOfOpenCreditLinesAndLoans:** Number of Open oans (installments like car loan or mortgage) and Lines of Credit\n",
    "- **NumberOfTimes90DaysLate:** Number of times borrower has been 90 days or more past due.\n",
    "- **NumberRealEstateLoansOrLines:** Number of mortgage and real estate loans including home equity lines of credit\n",
    "- **NumberOfTime60-89DaysPastDueNotWorse:** Number of times borrower has been 60-89 days past due but not worse in the last 2 years\n",
    "- **NumberOfDependents:** Number of dependents in family excluding themselves.\n",
    "\n",
    "\n",
    "These 10 input variables are used to predict the target variable wheter or not the customer will experience any Serious Delinquency event in the next two years. Since we will perform our analysis on a wide range of models, all of these variables will be handled and converted to numeric type.\n"
   ]
  },
  {
   "cell_type": "markdown",
   "metadata": {},
   "source": [
    "### Import Data and clean"
   ]
  },
  {
   "cell_type": "markdown",
   "metadata": {},
   "source": [
    "The credit card default data is available as an .xls file. Pandas reads .xls files automatically."
   ]
  },
  {
   "cell_type": "code",
   "execution_count": 6,
   "metadata": {},
   "outputs": [],
   "source": [
    "# Import file\n",
    "path = 'D:/Python/Projects/02_GSC/cs-training.csv'\n",
    "data = pd.read_csv(path,\n",
    "                  usecols = ['SeriousDlqin2yrs',\n",
    "                             'RevolvingUtilizationOfUnsecuredLines',\n",
    "                             'age',\n",
    "                             'NumberOfTime30-59DaysPastDueNotWorse',\n",
    "                             'DebtRatio',\n",
    "                             'MonthlyIncome',\n",
    "                             'NumberOfOpenCreditLinesAndLoans',\n",
    "                             'NumberOfTimes90DaysLate',\n",
    "                             'NumberRealEstateLoansOrLines',\n",
    "                             'NumberOfTime60-89DaysPastDueNotWorse',\n",
    "                             'NumberOfDependents'])\n"
   ]
  },
  {
   "cell_type": "code",
   "execution_count": 5,
   "metadata": {},
   "outputs": [
    {
     "data": {
      "text/plain": [
       "SeriousDlqin2yrs                          int64\n",
       "RevolvingUtilizationOfUnsecuredLines    float64\n",
       "age                                       int64\n",
       "NumberOfTime30-59DaysPastDueNotWorse      int64\n",
       "DebtRatio                               float64\n",
       "MonthlyIncome                           float64\n",
       "NumberOfOpenCreditLinesAndLoans           int64\n",
       "NumberOfTimes90DaysLate                   int64\n",
       "NumberRealEstateLoansOrLines              int64\n",
       "NumberOfTime60-89DaysPastDueNotWorse      int64\n",
       "NumberOfDependents                      float64\n",
       "dtype: object"
      ]
     },
     "execution_count": 5,
     "metadata": {},
     "output_type": "execute_result"
    }
   ],
   "source": [
    "data.dtypes"
   ]
  },
  {
   "cell_type": "markdown",
   "metadata": {},
   "source": [
    "### EDA\n",
    "\n",
    "Exploration of a dataset is paramount to a correct framing of our problem. Out objective is to predict an event of serious delinquency in the next 2 years based on 10 variables. In order to really understand our data and the vastness of the problem at hand we will focus on the next steps:\n",
    "\n",
    "* Dimensions of the dataset\n",
    "* Descriptive stats + Probability distribution plots\n",
    "* Nan Detection\n",
    "* Outlier Detection + Box plots\n",
    "* Correlation Matrix\n",
    "* Model Constraints from data related problems\n",
    "* Possible candidates of features\n",
    "\n",
    "Lets start with the Dimensions of our training matrix"
   ]
  },
  {
   "cell_type": "code",
   "execution_count": 6,
   "metadata": {},
   "outputs": [
    {
     "data": {
      "text/plain": [
       "(150000, 11)"
      ]
     },
     "execution_count": 6,
     "metadata": {},
     "output_type": "execute_result"
    }
   ],
   "source": [
    "data.shape"
   ]
  },
  {
   "cell_type": "markdown",
   "metadata": {},
   "source": [
    "Thus we have 150.000 records to train our model, and 11 features to predict our target feature  SeriousDlqin2yrs"
   ]
  },
  {
   "cell_type": "markdown",
   "metadata": {},
   "source": [
    "#### • Descriptive Stats"
   ]
  },
  {
   "cell_type": "code",
   "execution_count": 7,
   "metadata": {},
   "outputs": [
    {
     "data": {
      "text/html": [
       "<div>\n",
       "<style scoped>\n",
       "    .dataframe tbody tr th:only-of-type {\n",
       "        vertical-align: middle;\n",
       "    }\n",
       "\n",
       "    .dataframe tbody tr th {\n",
       "        vertical-align: top;\n",
       "    }\n",
       "\n",
       "    .dataframe thead th {\n",
       "        text-align: right;\n",
       "    }\n",
       "</style>\n",
       "<table border=\"1\" class=\"dataframe\">\n",
       "  <thead>\n",
       "    <tr style=\"text-align: right;\">\n",
       "      <th></th>\n",
       "      <th>SeriousDlqin2yrs</th>\n",
       "      <th>RevolvingUtilizationOfUnsecuredLines</th>\n",
       "      <th>age</th>\n",
       "      <th>NumberOfTime30-59DaysPastDueNotWorse</th>\n",
       "      <th>DebtRatio</th>\n",
       "      <th>MonthlyIncome</th>\n",
       "      <th>NumberOfOpenCreditLinesAndLoans</th>\n",
       "      <th>NumberOfTimes90DaysLate</th>\n",
       "      <th>NumberRealEstateLoansOrLines</th>\n",
       "      <th>NumberOfTime60-89DaysPastDueNotWorse</th>\n",
       "      <th>NumberOfDependents</th>\n",
       "    </tr>\n",
       "  </thead>\n",
       "  <tbody>\n",
       "    <tr>\n",
       "      <th>count</th>\n",
       "      <td>150000.000000</td>\n",
       "      <td>150000.000000</td>\n",
       "      <td>150000.000000</td>\n",
       "      <td>150000.000000</td>\n",
       "      <td>150000.000000</td>\n",
       "      <td>1.202690e+05</td>\n",
       "      <td>150000.000000</td>\n",
       "      <td>150000.000000</td>\n",
       "      <td>150000.000000</td>\n",
       "      <td>150000.000000</td>\n",
       "      <td>146076.000000</td>\n",
       "    </tr>\n",
       "    <tr>\n",
       "      <th>mean</th>\n",
       "      <td>0.066840</td>\n",
       "      <td>6.048438</td>\n",
       "      <td>52.295207</td>\n",
       "      <td>0.421033</td>\n",
       "      <td>353.005076</td>\n",
       "      <td>6.670221e+03</td>\n",
       "      <td>8.452760</td>\n",
       "      <td>0.265973</td>\n",
       "      <td>1.018240</td>\n",
       "      <td>0.240387</td>\n",
       "      <td>0.757222</td>\n",
       "    </tr>\n",
       "    <tr>\n",
       "      <th>std</th>\n",
       "      <td>0.249746</td>\n",
       "      <td>249.755371</td>\n",
       "      <td>14.771866</td>\n",
       "      <td>4.192781</td>\n",
       "      <td>2037.818523</td>\n",
       "      <td>1.438467e+04</td>\n",
       "      <td>5.145951</td>\n",
       "      <td>4.169304</td>\n",
       "      <td>1.129771</td>\n",
       "      <td>4.155179</td>\n",
       "      <td>1.115086</td>\n",
       "    </tr>\n",
       "    <tr>\n",
       "      <th>min</th>\n",
       "      <td>0.000000</td>\n",
       "      <td>0.000000</td>\n",
       "      <td>0.000000</td>\n",
       "      <td>0.000000</td>\n",
       "      <td>0.000000</td>\n",
       "      <td>0.000000e+00</td>\n",
       "      <td>0.000000</td>\n",
       "      <td>0.000000</td>\n",
       "      <td>0.000000</td>\n",
       "      <td>0.000000</td>\n",
       "      <td>0.000000</td>\n",
       "    </tr>\n",
       "    <tr>\n",
       "      <th>25%</th>\n",
       "      <td>0.000000</td>\n",
       "      <td>0.029867</td>\n",
       "      <td>41.000000</td>\n",
       "      <td>0.000000</td>\n",
       "      <td>0.175074</td>\n",
       "      <td>3.400000e+03</td>\n",
       "      <td>5.000000</td>\n",
       "      <td>0.000000</td>\n",
       "      <td>0.000000</td>\n",
       "      <td>0.000000</td>\n",
       "      <td>0.000000</td>\n",
       "    </tr>\n",
       "    <tr>\n",
       "      <th>50%</th>\n",
       "      <td>0.000000</td>\n",
       "      <td>0.154181</td>\n",
       "      <td>52.000000</td>\n",
       "      <td>0.000000</td>\n",
       "      <td>0.366508</td>\n",
       "      <td>5.400000e+03</td>\n",
       "      <td>8.000000</td>\n",
       "      <td>0.000000</td>\n",
       "      <td>1.000000</td>\n",
       "      <td>0.000000</td>\n",
       "      <td>0.000000</td>\n",
       "    </tr>\n",
       "    <tr>\n",
       "      <th>75%</th>\n",
       "      <td>0.000000</td>\n",
       "      <td>0.559046</td>\n",
       "      <td>63.000000</td>\n",
       "      <td>0.000000</td>\n",
       "      <td>0.868254</td>\n",
       "      <td>8.249000e+03</td>\n",
       "      <td>11.000000</td>\n",
       "      <td>0.000000</td>\n",
       "      <td>2.000000</td>\n",
       "      <td>0.000000</td>\n",
       "      <td>1.000000</td>\n",
       "    </tr>\n",
       "    <tr>\n",
       "      <th>max</th>\n",
       "      <td>1.000000</td>\n",
       "      <td>50708.000000</td>\n",
       "      <td>109.000000</td>\n",
       "      <td>98.000000</td>\n",
       "      <td>329664.000000</td>\n",
       "      <td>3.008750e+06</td>\n",
       "      <td>58.000000</td>\n",
       "      <td>98.000000</td>\n",
       "      <td>54.000000</td>\n",
       "      <td>98.000000</td>\n",
       "      <td>20.000000</td>\n",
       "    </tr>\n",
       "  </tbody>\n",
       "</table>\n",
       "</div>"
      ],
      "text/plain": [
       "       SeriousDlqin2yrs  RevolvingUtilizationOfUnsecuredLines            age  \\\n",
       "count     150000.000000                         150000.000000  150000.000000   \n",
       "mean           0.066840                              6.048438      52.295207   \n",
       "std            0.249746                            249.755371      14.771866   \n",
       "min            0.000000                              0.000000       0.000000   \n",
       "25%            0.000000                              0.029867      41.000000   \n",
       "50%            0.000000                              0.154181      52.000000   \n",
       "75%            0.000000                              0.559046      63.000000   \n",
       "max            1.000000                          50708.000000     109.000000   \n",
       "\n",
       "       NumberOfTime30-59DaysPastDueNotWorse      DebtRatio  MonthlyIncome  \\\n",
       "count                         150000.000000  150000.000000   1.202690e+05   \n",
       "mean                               0.421033     353.005076   6.670221e+03   \n",
       "std                                4.192781    2037.818523   1.438467e+04   \n",
       "min                                0.000000       0.000000   0.000000e+00   \n",
       "25%                                0.000000       0.175074   3.400000e+03   \n",
       "50%                                0.000000       0.366508   5.400000e+03   \n",
       "75%                                0.000000       0.868254   8.249000e+03   \n",
       "max                               98.000000  329664.000000   3.008750e+06   \n",
       "\n",
       "       NumberOfOpenCreditLinesAndLoans  NumberOfTimes90DaysLate  \\\n",
       "count                    150000.000000            150000.000000   \n",
       "mean                          8.452760                 0.265973   \n",
       "std                           5.145951                 4.169304   \n",
       "min                           0.000000                 0.000000   \n",
       "25%                           5.000000                 0.000000   \n",
       "50%                           8.000000                 0.000000   \n",
       "75%                          11.000000                 0.000000   \n",
       "max                          58.000000                98.000000   \n",
       "\n",
       "       NumberRealEstateLoansOrLines  NumberOfTime60-89DaysPastDueNotWorse  \\\n",
       "count                 150000.000000                         150000.000000   \n",
       "mean                       1.018240                              0.240387   \n",
       "std                        1.129771                              4.155179   \n",
       "min                        0.000000                              0.000000   \n",
       "25%                        0.000000                              0.000000   \n",
       "50%                        1.000000                              0.000000   \n",
       "75%                        2.000000                              0.000000   \n",
       "max                       54.000000                             98.000000   \n",
       "\n",
       "       NumberOfDependents  \n",
       "count       146076.000000  \n",
       "mean             0.757222  \n",
       "std              1.115086  \n",
       "min              0.000000  \n",
       "25%              0.000000  \n",
       "50%              0.000000  \n",
       "75%              1.000000  \n",
       "max             20.000000  "
      ]
     },
     "execution_count": 7,
     "metadata": {},
     "output_type": "execute_result"
    }
   ],
   "source": [
    "data.describe()"
   ]
  },
  {
   "cell_type": "code",
   "execution_count": 8,
   "metadata": {},
   "outputs": [
    {
     "data": {
      "text/plain": [
       "Index(['SeriousDlqin2yrs', 'RevolvingUtilizationOfUnsecuredLines', 'age',\n",
       "       'NumberOfTime30-59DaysPastDueNotWorse', 'DebtRatio', 'MonthlyIncome',\n",
       "       'NumberOfOpenCreditLinesAndLoans', 'NumberOfTimes90DaysLate',\n",
       "       'NumberRealEstateLoansOrLines', 'NumberOfTime60-89DaysPastDueNotWorse',\n",
       "       'NumberOfDependents'],\n",
       "      dtype='object')"
      ]
     },
     "execution_count": 8,
     "metadata": {},
     "output_type": "execute_result"
    }
   ],
   "source": [
    "data.columns"
   ]
  },
  {
   "cell_type": "markdown",
   "metadata": {},
   "source": [
    "## • Probability Distribution plots + Bins\n"
   ]
  },
  {
   "cell_type": "markdown",
   "metadata": {},
   "source": [
    "### Target: SeriousDlqin2yrs\n",
    "\n",
    "As you can probably tell, this dataset feature some imbalance on the response target, (Kudos to the risk evaluation team of the dataset). Delinquency events in the last 2 years have been around 6.7%"
   ]
  },
  {
   "cell_type": "code",
   "execution_count": 27,
   "metadata": {},
   "outputs": [
    {
     "data": {
      "image/png": "[encoded data removed]",
      "text/plain": [
       "<Figure size 432x288 with 1 Axes>"
      ]
     },
     "metadata": {
      "needs_background": "light"
     },
     "output_type": "display_data"
    }
   ],
   "source": [
    "fig = plt.figure()\n",
    "ax = fig.add_axes([0,0,1,1])\n",
    "labels = ['Default', 'Non-Default']\n",
    "values = [(data[data['SeriousDlqin2yrs']==1].sum()['SeriousDlqin2yrs'])/150000, (150000-data[data['SeriousDlqin2yrs']==1].sum()['SeriousDlqin2yrs'])/150000]\n",
    "ax.bar(labels,values, color= ['red', 'green'])\n",
    "plt.show()"
   ]
  },
  {
   "cell_type": "markdown",
   "metadata": {},
   "source": [
    "### • RevolvingUtilizationOfUnsecuredLines:\n",
    "In order to properly understand the distribution on our features, we will use the elements of a Box-Plot and its bounds. In this case we find almost 38k records between -0.74 and 0.2, negative utilization rates? this does seem a bit strange,  notice as well the concentration of  high rates of Revolving utilization: 135%!"
   ]
  },
  {
   "cell_type": "code",
   "execution_count": 10,
   "metadata": {},
   "outputs": [],
   "source": [
    "# RevolvingUtilizationOfUnsecuredLines \n",
    "## Get quantiles and define Bins\n",
    "col = 'RevolvingUtilizationOfUnsecuredLines'\n",
    "def BinSelection(col): \n",
    "    q_u = data[col].quantile(0.75)  # Upper Quantile\n",
    "    q_l = data[col].quantile(0.25)  # Lower Quantile\n",
    "    m   = data[col].quantile(0.50)  # Median\n",
    "    iqr = q_u - q_l                 # InterQuartile Range\n",
    "    olb = q_l - 3 * iqr             # Outer Lower Bound, Anything less is strongly suspected outlier\n",
    "    ilb = q_l - 1.5 * iqr           # Inner Lower Bound, Anything within bound is softly considered outlier\n",
    "    iub = q_u + 1.5 * iqr           # Inner Upper Bound\n",
    "    oub = q_u + 3 * iqr             # Outer Upper Bound\n",
    "    df = [float('-inf'), olb, ilb, q_l, m, q_u, iub, oub, float('inf')] \n",
    "    return(df);"
   ]
  },
  {
   "cell_type": "code",
   "execution_count": 11,
   "metadata": {},
   "outputs": [
    {
     "name": "stdout",
     "output_type": "stream",
     "text": [
      "(0.154, 0.559]      37500\n",
      "(0.0299, 0.154]     37500\n",
      "(-0.764, 0.0299]    37500\n",
      "(0.559, 1.353]      36737\n",
      "(1.353, 2.147]        424\n",
      "(2.147, inf]          339\n",
      "(-1.558, -0.764]        0\n",
      "(-inf, -1.558]          0\n",
      "Name: RevolvingUtilizationOfUnsecuredLines_binned, dtype: int64\n",
      "[-inf, -1.5576689744999999, -0.7639007662499999, 0.029867442, 0.154180737, 0.5590462475, 1.35281445575, 2.146582664, inf]\n"
     ]
    },
    {
     "data": {
      "image/png": "[encoded data removed]",
      "text/plain": [
       "<Figure size 432x288 with 1 Axes>"
      ]
     },
     "metadata": {
      "needs_background": "light"
     },
     "output_type": "display_data"
    }
   ],
   "source": [
    "bp_bins = (BinSelection('RevolvingUtilizationOfUnsecuredLines'))\n",
    "data['RevolvingUtilizationOfUnsecuredLines_binned']=pd.cut(x = data['RevolvingUtilizationOfUnsecuredLines'],\n",
    "                        bins = bp_bins \n",
    "                        )\n",
    "data['RevolvingUtilizationOfUnsecuredLines_binned'].value_counts(sort=False).plot.bar()\n",
    "print(data['RevolvingUtilizationOfUnsecuredLines_binned'].value_counts())\n",
    "print(bp_bins)"
   ]
  },
  {
   "cell_type": "code",
   "execution_count": 12,
   "metadata": {},
   "outputs": [
    {
     "data": {
      "text/plain": [
       "<matplotlib.axes._subplots.AxesSubplot at 0x2295efc8400>"
      ]
     },
     "execution_count": 12,
     "metadata": {},
     "output_type": "execute_result"
    },
    {
     "data": {
      "image/png": "[encoded data removed]",
      "text/plain": [
       "<Figure size 432x288 with 1 Axes>"
      ]
     },
     "metadata": {
      "needs_background": "light"
     },
     "output_type": "display_data"
    }
   ],
   "source": [
    "data.groupby(['RevolvingUtilizationOfUnsecuredLines_binned',\"SeriousDlqin2yrs\"]).size().unstack().plot.bar()"
   ]
  },
  {
   "cell_type": "markdown",
   "metadata": {},
   "source": [
    "What values worry me in this feature: \n",
    "- Negative numbers on utilization are not feasible\n",
    "- Numbers greater than 1 seem troublesome from a financial point perspective.\n",
    "- High Utilization of revolving products does suggest an increase on the target feature\n",
    "\n",
    "Let us test for numbers greater than 1 since we know the min of this feature is 0 we need not to worry about negative numbers"
   ]
  },
  {
   "cell_type": "code",
   "execution_count": 13,
   "metadata": {},
   "outputs": [
    {
     "name": "stdout",
     "output_type": "stream",
     "text": [
      "SeriousDlqin2yrs                               3321\n",
      "RevolvingUtilizationOfUnsecuredLines           3321\n",
      "age                                            3321\n",
      "NumberOfTime30-59DaysPastDueNotWorse           3321\n",
      "DebtRatio                                      3321\n",
      "MonthlyIncome                                  2773\n",
      "NumberOfOpenCreditLinesAndLoans                3321\n",
      "NumberOfTimes90DaysLate                        3321\n",
      "NumberRealEstateLoansOrLines                   3321\n",
      "NumberOfTime60-89DaysPastDueNotWorse           3321\n",
      "NumberOfDependents                             3260\n",
      "RevolvingUtilizationOfUnsecuredLines_binned    3321\n",
      "dtype: int64\n"
     ]
    }
   ],
   "source": [
    "# Numbers greater than 1 on dataset\n",
    "test_data = data[data['RevolvingUtilizationOfUnsecuredLines']>1]\n",
    "col_count = test_data.count()\n",
    "print(col_count)"
   ]
  },
  {
   "cell_type": "markdown",
   "metadata": {},
   "source": [
    "### Age:\n",
    "This feature seems like a straightforward one, Demographic age in years, we expect lower age to affect risk exposure.\n"
   ]
  },
  {
   "cell_type": "code",
   "execution_count": 14,
   "metadata": {},
   "outputs": [
    {
     "data": {
      "text/plain": [
       "49     3837\n",
       "48     3806\n",
       "50     3753\n",
       "63     3719\n",
       "47     3719\n",
       "       ... \n",
       "101       3\n",
       "109       2\n",
       "107       1\n",
       "105       1\n",
       "0         1\n",
       "Name: age, Length: 86, dtype: int64"
      ]
     },
     "execution_count": 14,
     "metadata": {},
     "output_type": "execute_result"
    }
   ],
   "source": [
    "data['age'].value_counts()"
   ]
  },
  {
   "cell_type": "markdown",
   "metadata": {},
   "source": [
    "Although 90+ age seems a given on a developed world, being in a loan portfolio at advanced age does not seem that relevant. Bank policies usually avoid customers with life exposure. let us Bin this variable again and try to understand it  a little bit better."
   ]
  },
  {
   "cell_type": "code",
   "execution_count": 15,
   "metadata": {},
   "outputs": [
    {
     "name": "stdout",
     "output_type": "stream",
     "text": [
      "(41.0, 52.0]    39151\n",
      "(52.0, 63.0]    38379\n",
      "(20.0, 41.0]    38218\n",
      "(63.0, 80.0]    29315\n",
      "(80.0, 93.0]     4781\n",
      "(93.0, inf]       155\n",
      "(18.0, 20.0]        0\n",
      "(0.0, 18.0]         0\n",
      "Name: age_binned, dtype: int64\n",
      "[-inf, -25.0, 8.0, 41.0, 52.0, 63.0, 96.0, 129.0, inf]\n"
     ]
    },
    {
     "data": {
      "image/png": "[encoded data removed]",
      "text/plain": [
       "<Figure size 432x288 with 1 Axes>"
      ]
     },
     "metadata": {
      "needs_background": "light"
     },
     "output_type": "display_data"
    }
   ],
   "source": [
    "bp_bins = (BinSelection('age'))\n",
    "\n",
    "data['age_binned']=pd.cut(x = data['age'],\n",
    "                        bins = [0, 18, 20, 41, 52, 63, 80, 93, float('Inf')] \n",
    "                        )\n",
    "data['age_binned'].value_counts(sort=False).plot.bar()\n",
    "print(data['age_binned'].value_counts())\n",
    "print(bp_bins)"
   ]
  },
  {
   "cell_type": "code",
   "execution_count": 17,
   "metadata": {},
   "outputs": [
    {
     "data": {
      "text/plain": [
       "<matplotlib.axes._subplots.AxesSubplot at 0x2295f302bb0>"
      ]
     },
     "execution_count": 17,
     "metadata": {},
     "output_type": "execute_result"
    },
    {
     "data": {
      "image/png": "[encoded data removed]",
      "text/plain": [
       "<Figure size 432x288 with 1 Axes>"
      ]
     },
     "metadata": {
      "needs_background": "light"
     },
     "output_type": "display_data"
    }
   ],
   "source": [
    "data.groupby(['age_binned',\"SeriousDlqin2yrs\"]).size().unstack().plot.bar()"
   ]
  },
  {
   "cell_type": "markdown",
   "metadata": {},
   "source": [
    "What worries me about this feature?:\n",
    "- People Below legal age\n",
    "- 90+ population\n",
    "- Concentration of target events on first bin, suggests decrease in bin increases."
   ]
  },
  {
   "cell_type": "code",
   "execution_count": 16,
   "metadata": {},
   "outputs": [
    {
     "name": "stdout",
     "output_type": "stream",
     "text": [
      "SeriousDlqin2yrs                               1\n",
      "RevolvingUtilizationOfUnsecuredLines           1\n",
      "age                                            1\n",
      "NumberOfTime30-59DaysPastDueNotWorse           1\n",
      "DebtRatio                                      1\n",
      "MonthlyIncome                                  1\n",
      "NumberOfOpenCreditLinesAndLoans                1\n",
      "NumberOfTimes90DaysLate                        1\n",
      "NumberRealEstateLoansOrLines                   1\n",
      "NumberOfTime60-89DaysPastDueNotWorse           1\n",
      "NumberOfDependents                             1\n",
      "RevolvingUtilizationOfUnsecuredLines_binned    1\n",
      "age_binned                                     0\n",
      "dtype: int64\n"
     ]
    }
   ],
   "source": [
    "# Non Legal Age customers on dataset\n",
    "test_data = data[data['age'] < 18]\n",
    "col_count = test_data.count()\n",
    "print(col_count)"
   ]
  },
  {
   "cell_type": "code",
   "execution_count": 18,
   "metadata": {},
   "outputs": [
    {
     "name": "stdout",
     "output_type": "stream",
     "text": [
      "SeriousDlqin2yrs                               489\n",
      "RevolvingUtilizationOfUnsecuredLines           489\n",
      "age                                            489\n",
      "NumberOfTime30-59DaysPastDueNotWorse           489\n",
      "DebtRatio                                      489\n",
      "MonthlyIncome                                  255\n",
      "NumberOfOpenCreditLinesAndLoans                489\n",
      "NumberOfTimes90DaysLate                        489\n",
      "NumberRealEstateLoansOrLines                   489\n",
      "NumberOfTime60-89DaysPastDueNotWorse           489\n",
      "NumberOfDependents                             399\n",
      "RevolvingUtilizationOfUnsecuredLines_binned    489\n",
      "age_binned                                     489\n",
      "dtype: int64\n"
     ]
    }
   ],
   "source": [
    "# Non Legal Age customers on dataset\n",
    "test_data = data[data['age'] > 90]\n",
    "col_count = test_data.count()\n",
    "print(col_count)"
   ]
  },
  {
   "cell_type": "markdown",
   "metadata": {},
   "source": [
    "### NumberOfTime30-59DaysPastDueNotWorse:"
   ]
  },
  {
   "cell_type": "markdown",
   "metadata": {},
   "source": [
    "Number of times borrower has been 30-59 days past due but no worse in the last 2 years.\n",
    "\n",
    "Interesting feature, to be used in conjuction with other 2 features  \n",
    "- Theoretical min:  0 \n",
    "- Theoretical max: 24"
   ]
  },
  {
   "cell_type": "code",
   "execution_count": 19,
   "metadata": {},
   "outputs": [
    {
     "data": {
      "text/plain": [
       "0     126018\n",
       "1      16033\n",
       "2       4598\n",
       "3       1754\n",
       "4        747\n",
       "5        342\n",
       "98       264\n",
       "6        140\n",
       "7         54\n",
       "8         25\n",
       "9         12\n",
       "96         5\n",
       "10         4\n",
       "12         2\n",
       "13         1\n",
       "11         1\n",
       "Name: NumberOfTime30-59DaysPastDueNotWorse, dtype: int64"
      ]
     },
     "execution_count": 19,
     "metadata": {},
     "output_type": "execute_result"
    }
   ],
   "source": [
    "data['NumberOfTime30-59DaysPastDueNotWorse'].value_counts()"
   ]
  },
  {
   "cell_type": "markdown",
   "metadata": {},
   "source": [
    "98 - 96 seems a bit excessive and not a part of our theoretical range values. Lets explore further this variable."
   ]
  },
  {
   "cell_type": "code",
   "execution_count": 20,
   "metadata": {},
   "outputs": [
    {
     "name": "stdout",
     "output_type": "stream",
     "text": [
      "(0.99, 1.0]     16033\n",
      "(1.0, 2.0]       4598\n",
      "(2.0, 4.0]       2501\n",
      "(4.0, 6.0]        482\n",
      "(13.0, inf]       269\n",
      "(6.0, 10.0]        95\n",
      "(10.0, 13.0]        4\n",
      "(0.0, 0.99]         0\n",
      "Name: NumberOfTime30-59DaysPastDueNotWorse_binned, dtype: int64\n",
      "[0, 0.99, 1, 2, 4, 6, 10, 13, inf]\n"
     ]
    },
    {
     "data": {
      "image/png": "[encoded data removed]",
      "text/plain": [
       "<Figure size 432x288 with 1 Axes>"
      ]
     },
     "metadata": {
      "needs_background": "light"
     },
     "output_type": "display_data"
    }
   ],
   "source": [
    "bins = [0, 0.99, 1, 2, 4, 6, 10, 13, float('Inf')]\n",
    "data['NumberOfTime30-59DaysPastDueNotWorse_binned']= pd.cut(x = data['NumberOfTime30-59DaysPastDueNotWorse'],\n",
    "                                                            bins = bins)\n",
    "\n",
    "data['NumberOfTime30-59DaysPastDueNotWorse_binned'].value_counts(sort=False).plot.bar()\n",
    "print(data['NumberOfTime30-59DaysPastDueNotWorse_binned'].value_counts())\n",
    "print(bins)"
   ]
  },
  {
   "cell_type": "markdown",
   "metadata": {},
   "source": [
    "We would like to see wether there can be any sort of relation among our bins and the target feature"
   ]
  },
  {
   "cell_type": "code",
   "execution_count": 21,
   "metadata": {},
   "outputs": [
    {
     "data": {
      "text/plain": [
       "<matplotlib.axes._subplots.AxesSubplot at 0x2295f3ea160>"
      ]
     },
     "execution_count": 21,
     "metadata": {},
     "output_type": "execute_result"
    },
    {
     "data": {
      "image/png": "[encoded data removed]",
      "text/plain": [
       "<Figure size 432x288 with 1 Axes>"
      ]
     },
     "metadata": {
      "needs_background": "light"
     },
     "output_type": "display_data"
    }
   ],
   "source": [
    "data.groupby(['NumberOfTime30-59DaysPastDueNotWorse_binned',\"SeriousDlqin2yrs\"]).size().unstack().plot.bar()"
   ]
  },
  {
   "cell_type": "markdown",
   "metadata": {},
   "source": [
    "What worries me about this feature?\n",
    "- Extremely unbalanced, 130k+ records display a value of 0 (Again, kudos to the risk evaluation team)\n",
    "- It does seem to suggest that the proportion of events on each bin increase is related to an increase in Delinquency events among the population.\n",
    "- 96, 98 seem to be some sort of code. We need to create new features for these values."
   ]
  },
  {
   "cell_type": "markdown",
   "metadata": {},
   "source": [
    "### Debt Ratio\n",
    "Monthly debt payments, alimony,living costs divided by monthy gross income. \n",
    "\n",
    "Potential pitfalls:\n",
    "- Non accurate income measure\n",
    "- Possible missing income measure (inf ratios)\n",
    "- Debt Payments are mixed with living costs ( Non dynamic feature)\n",
    "\n",
    "Theoretical ratio 0 - 2(?) lets check the portfolio distribution."
   ]
  },
  {
   "cell_type": "code",
   "execution_count": 22,
   "metadata": {},
   "outputs": [
    {
     "data": {
      "text/plain": [
       "count    150000.000000\n",
       "mean        353.005076\n",
       "std        2037.818523\n",
       "min           0.000000\n",
       "25%           0.175074\n",
       "50%           0.366508\n",
       "75%           0.868254\n",
       "max      329664.000000\n",
       "Name: DebtRatio, dtype: float64"
      ]
     },
     "execution_count": 22,
     "metadata": {},
     "output_type": "execute_result"
    }
   ],
   "source": [
    "data['DebtRatio'].describe()"
   ]
  },
  {
   "cell_type": "markdown",
   "metadata": {},
   "source": [
    "max of 339k? that's just denominator problems. Let us Find the bins for this variable"
   ]
  },
  {
   "cell_type": "code",
   "execution_count": 23,
   "metadata": {},
   "outputs": [
    {
     "name": "stdout",
     "output_type": "stream",
     "text": [
      "(0.367, 0.868]      37500\n",
      "(0.175, 0.367]      37500\n",
      "(-0.865, 0.175]     37500\n",
      "(2.948, inf]        30457\n",
      "(0.868, 1.908]       6189\n",
      "(1.908, 2.948]        854\n",
      "(-1.904, -0.865]        0\n",
      "(-inf, -1.904]          0\n",
      "Name: DebtRatio_binned, dtype: int64\n",
      "[-inf, -1.9044659907499997, -0.8646960792499998, 0.17507383225, 0.366507841, 0.86825377325, 1.9080236847499998, 2.9477935962499995, inf]\n"
     ]
    },
    {
     "data": {
      "image/png": "[encoded data removed]",
      "text/plain": [
       "<Figure size 432x288 with 1 Axes>"
      ]
     },
     "metadata": {
      "needs_background": "light"
     },
     "output_type": "display_data"
    }
   ],
   "source": [
    "bins = BinSelection('DebtRatio')\n",
    "# [float('-inf'), 0, 0.36, 0.86, 1, 2, 3, float('inf')])\n",
    "\n",
    "data['DebtRatio_binned']= pd.cut(x = data['DebtRatio'],\n",
    "                          bins = bins)\n",
    "\n",
    "data['DebtRatio_binned'].value_counts(sort=False).plot.bar()\n",
    "print(data['DebtRatio_binned'].value_counts())\n",
    "print(bins)"
   ]
  },
  {
   "cell_type": "code",
   "execution_count": 24,
   "metadata": {},
   "outputs": [
    {
     "data": {
      "text/plain": [
       "<matplotlib.axes._subplots.AxesSubplot at 0x2295f05b100>"
      ]
     },
     "execution_count": 24,
     "metadata": {},
     "output_type": "execute_result"
    },
    {
     "data": {
      "image/png": "[encoded data removed]",
      "text/plain": [
       "<Figure size 432x288 with 1 Axes>"
      ]
     },
     "metadata": {
      "needs_background": "light"
     },
     "output_type": "display_data"
    }
   ],
   "source": [
    "data.groupby(['DebtRatio_binned',\"SeriousDlqin2yrs\"]).size().unstack().plot.bar()"
   ]
  },
  {
   "cell_type": "markdown",
   "metadata": {},
   "source": [
    "What worries me about this feature? \n",
    "- Non informative feature, proportion of target does not seem to relate on a linear fashion among bins\n",
    "- Construction problems. By dividing by an unreliable feature we have really high debt to income ratios that are driven mainly by Nan\n",
    "- Feature treatment: bin, normalize, separate non informative by nulls"
   ]
  },
  {
   "cell_type": "markdown",
   "metadata": {},
   "source": [
    "### MonthlyIncome       \n",
    "Monthly income, no currency info, assumed USD. \n",
    "- No time period, Inflation should not play a role on 2y and US data.\n",
    "- Income unless given and collected from employer it's a guess. Even then, dynamic nature of income brings a lot of variance to the data. \n",
    "- Assumed credit origination income to be maintained across credit lifecycle?\n",
    "\n",
    "Potential pitfalls: \n",
    "- Tons of nulls\n",
    "- Traditional unreliable data, be careful."
   ]
  },
  {
   "cell_type": "code",
   "execution_count": 25,
   "metadata": {},
   "outputs": [
    {
     "data": {
      "text/plain": [
       "count      120,269.00\n",
       "mean         6,670.22\n",
       "std         14,384.67\n",
       "min              0.00\n",
       "25%          3,400.00\n",
       "50%          5,400.00\n",
       "75%          8,249.00\n",
       "max      3,008,750.00\n",
       "Name: MonthlyIncome, dtype: object"
      ]
     },
     "execution_count": 25,
     "metadata": {},
     "output_type": "execute_result"
    }
   ],
   "source": [
    "data['MonthlyIncome'].describe().apply(\"{:,.2f}\".format)"
   ]
  },
  {
   "cell_type": "markdown",
   "metadata": {},
   "source": [
    "Well that avg portfolio income does bring to tears all international students. But Let us focus on the task at hand.\n",
    "\n",
    "We have:\n",
    "\n",
    "- Around 30k Na's\n",
    "- Some possible format problems? 3m monthly usd seems excessive. (Maybe Corporate Loans?)\n",
    "\n",
    "Let's find the bins of this variable"
   ]
  },
  {
   "cell_type": "code",
   "execution_count": 26,
   "metadata": {},
   "outputs": [
    {
     "data": {
      "text/plain": [
       "[-inf, -11147.0, -3873.5, 3400.0, 5400.0, 8249.0, 15522.5, 22796.0, inf]"
      ]
     },
     "execution_count": 26,
     "metadata": {},
     "output_type": "execute_result"
    }
   ],
   "source": [
    "bp_bins = (BinSelection('MonthlyIncome'))\n",
    "bp_bins"
   ]
  },
  {
   "cell_type": "code",
   "execution_count": 27,
   "metadata": {},
   "outputs": [
    {
     "name": "stdout",
     "output_type": "stream",
     "text": [
      "(3400.0, 5400.0]      30026\n",
      "NaN                   29731\n",
      "(0.0, 3400.0]         28655\n",
      "(5400.0, 8000.0]      28503\n",
      "(8000.0, 10000.0]     13132\n",
      "(10000.0, 15000.0]    13035\n",
      "(15000.0, 20000.0]     3181\n",
      "(-inf, 0.0]            1634\n",
      "(23000.0, inf]         1499\n",
      "(20000.0, 23000.0]      604\n",
      "Name: MonthlyIncome_binned, dtype: int64\n",
      "[-inf, -11147.0, -3873.5, 3400.0, 5400.0, 8249.0, 15522.5, 22796.0, inf]\n"
     ]
    },
    {
     "data": {
      "image/png": "[encoded data removed]",
      "text/plain": [
       "<Figure size 432x288 with 1 Axes>"
      ]
     },
     "metadata": {
      "needs_background": "light"
     },
     "output_type": "display_data"
    }
   ],
   "source": [
    "data['MonthlyIncome_binned']=pd.cut(x = data['MonthlyIncome'],\n",
    "                        bins = [float('-Inf'), 0, 3400, 5400, 8000, 10000, 15000, 20000, 23000, float('Inf')] \n",
    "                        )\n",
    "data['MonthlyIncome_binned'].value_counts(sort=False, dropna=False).plot.bar()\n",
    "print(data['MonthlyIncome_binned'].value_counts(dropna= False))\n",
    "print(bp_bins)"
   ]
  },
  {
   "cell_type": "code",
   "execution_count": 28,
   "metadata": {},
   "outputs": [
    {
     "data": {
      "text/plain": [
       "<matplotlib.axes._subplots.AxesSubplot at 0x2295f4103a0>"
      ]
     },
     "execution_count": 28,
     "metadata": {},
     "output_type": "execute_result"
    },
    {
     "data": {
      "image/png": "[encoded data removed]",
      "text/plain": [
       "<Figure size 432x288 with 1 Axes>"
      ]
     },
     "metadata": {
      "needs_background": "light"
     },
     "output_type": "display_data"
    }
   ],
   "source": [
    "data.groupby(['MonthlyIncome_binned',\"SeriousDlqin2yrs\"]).size().unstack().plot.bar()"
   ]
  },
  {
   "cell_type": "markdown",
   "metadata": {},
   "source": [
    "What worries me about this feature:\n",
    "- Absurd amount of nulls.\n",
    "- Suspected outliers around 15k+ \n",
    "- Strong suspect of Outliers at 22k+\n",
    "\n",
    "- Feature treatment:\n",
    "    - Null treatment\n",
    "    - Stze\n",
    "    - Relate Nan values of debt ratio to median. in case of null income.\n",
    "    "
   ]
  },
  {
   "cell_type": "markdown",
   "metadata": {},
   "source": [
    "### NumberOfOpenCreditLinesAndLoans\n",
    "Number of Open loans (installment like car loan or mortgage) and Lines of credit (e.g. credit cards).\n",
    "\n",
    "- Proxy for income(?)\n",
    "\n",
    "Potential pitfalls:\n",
    "- Distorted by including Lines of credit (2-3 avg)\n",
    "- Non Linear nature with target (?)\n",
    "\n",
    "Let us delve into this feature."
   ]
  },
  {
   "cell_type": "code",
   "execution_count": 29,
   "metadata": {},
   "outputs": [
    {
     "data": {
      "text/plain": [
       "count    150000.000000\n",
       "mean          8.452760\n",
       "std           5.145951\n",
       "min           0.000000\n",
       "25%           5.000000\n",
       "50%           8.000000\n",
       "75%          11.000000\n",
       "max          58.000000\n",
       "Name: NumberOfOpenCreditLinesAndLoans, dtype: float64"
      ]
     },
     "execution_count": 29,
     "metadata": {},
     "output_type": "execute_result"
    }
   ],
   "source": [
    "data['NumberOfOpenCreditLinesAndLoans'].describe()"
   ]
  },
  {
   "cell_type": "markdown",
   "metadata": {},
   "source": [
    "Well even among industry standards this seems to involve also savings/checking accounts. A bit high to what was expected. Let us find the bins of this variable."
   ]
  },
  {
   "cell_type": "code",
   "execution_count": 30,
   "metadata": {},
   "outputs": [
    {
     "data": {
      "text/plain": [
       "[-inf, -13.0, -4.0, 5.0, 8.0, 11.0, 20.0, 29.0, inf]"
      ]
     },
     "execution_count": 30,
     "metadata": {},
     "output_type": "execute_result"
    }
   ],
   "source": [
    "bp_bins = (BinSelection('NumberOfOpenCreditLinesAndLoans'))\n",
    "bp_bins"
   ]
  },
  {
   "cell_type": "code",
   "execution_count": 31,
   "metadata": {},
   "outputs": [
    {
     "name": "stdout",
     "output_type": "stream",
     "text": [
      "(0.0, 5.0]      44702\n",
      "(5.0, 8.0]      39421\n",
      "(11.0, 20.0]    30709\n",
      "(8.0, 11.0]     29300\n",
      "(20.0, 29.0]     3538\n",
      "(-inf, 0.0]      1888\n",
      "(29.0, inf]       442\n",
      "Name: NumberOfOpenCreditLinesAndLoans_binned, dtype: int64\n",
      "[-inf, -13.0, -4.0, 5.0, 8.0, 11.0, 20.0, 29.0, inf]\n"
     ]
    },
    {
     "data": {
      "image/png": "[encoded data removed]",
      "text/plain": [
       "<Figure size 432x288 with 1 Axes>"
      ]
     },
     "metadata": {
      "needs_background": "light"
     },
     "output_type": "display_data"
    }
   ],
   "source": [
    "data['NumberOfOpenCreditLinesAndLoans_binned']=pd.cut(x = data['NumberOfOpenCreditLinesAndLoans'],\n",
    "                        bins = [float('-inf'), 0, 5, 8, 11, 20, 29, float('inf')] \n",
    "                        )\n",
    "data['NumberOfOpenCreditLinesAndLoans_binned'].value_counts(sort=False, dropna=False).plot.bar()\n",
    "print(data['NumberOfOpenCreditLinesAndLoans_binned'].value_counts(dropna= False))\n",
    "print(bp_bins)"
   ]
  },
  {
   "cell_type": "code",
   "execution_count": 32,
   "metadata": {},
   "outputs": [
    {
     "data": {
      "text/plain": [
       "<matplotlib.axes._subplots.AxesSubplot at 0x2295f4f9a60>"
      ]
     },
     "execution_count": 32,
     "metadata": {},
     "output_type": "execute_result"
    },
    {
     "data": {
      "image/png": "[encoded data removed]",
      "text/plain": [
       "<Figure size 432x288 with 1 Axes>"
      ]
     },
     "metadata": {
      "needs_background": "light"
     },
     "output_type": "display_data"
    }
   ],
   "source": [
    "data.groupby(['NumberOfOpenCreditLinesAndLoans_binned',\"SeriousDlqin2yrs\"]).size().unstack().plot.bar()"
   ]
  },
  {
   "cell_type": "markdown",
   "metadata": {},
   "source": [
    "What worries me about this feature:\n",
    "- More than 11 open lines? this is just way too much. Is this per household , even then?\n",
    "- Non linear relationship with target. Low Open lines could men less income therefore more delinquency events?\n",
    "- No null events. Possible aggregation across time errors. maybe card renewals?\n",
    "\n",
    "Recommended treatment: \n",
    "- Separate feature space >11. \n",
    "- Treat >29 as outlier\n",
    "- stdize."
   ]
  },
  {
   "cell_type": "markdown",
   "metadata": {},
   "source": [
    "### NumberOfTimes90DaysLate\n",
    "Number of times borrower has been 90 days or more past due, this feature is considered a non-performing loan across different portfolio 3 months late payment is considered crossing a line in accounting literature. For House portfolios... maybe not that troublesome.\n",
    "\n",
    "We will observe this feature with great interest.\n"
   ]
  },
  {
   "cell_type": "code",
   "execution_count": 33,
   "metadata": {},
   "outputs": [
    {
     "data": {
      "text/plain": [
       "count    150000.000000\n",
       "mean          0.265973\n",
       "std           4.169304\n",
       "min           0.000000\n",
       "25%           0.000000\n",
       "50%           0.000000\n",
       "75%           0.000000\n",
       "max          98.000000\n",
       "Name: NumberOfTimes90DaysLate, dtype: float64"
      ]
     },
     "execution_count": 33,
     "metadata": {},
     "output_type": "execute_result"
    }
   ],
   "source": [
    "data['NumberOfTimes90DaysLate'].describe()"
   ]
  },
  {
   "cell_type": "markdown",
   "metadata": {},
   "source": [
    "Again this cheeky 98 trying to pass by, max theoretical of 24times. This reinforces our theory of code-related meaning on the feature, (maybe refinanced status?) "
   ]
  },
  {
   "cell_type": "code",
   "execution_count": 34,
   "metadata": {},
   "outputs": [
    {
     "data": {
      "text/plain": [
       "0     141662\n",
       "1       5243\n",
       "2       1555\n",
       "3        667\n",
       "4        291\n",
       "98       264\n",
       "5        131\n",
       "6         80\n",
       "7         38\n",
       "8         21\n",
       "9         19\n",
       "10         8\n",
       "11         5\n",
       "96         5\n",
       "13         4\n",
       "12         2\n",
       "14         2\n",
       "15         2\n",
       "17         1\n",
       "Name: NumberOfTimes90DaysLate, dtype: int64"
      ]
     },
     "execution_count": 34,
     "metadata": {},
     "output_type": "execute_result"
    }
   ],
   "source": [
    "data['NumberOfTimes90DaysLate'].value_counts(dropna=False)"
   ]
  },
  {
   "cell_type": "code",
   "execution_count": 35,
   "metadata": {},
   "outputs": [
    {
     "name": "stdout",
     "output_type": "stream",
     "text": [
      "(-inf, 0.0]    141662\n",
      "(0.0, 1.0]       5243\n",
      "(1.0, 2.0]       1555\n",
      "(2.0, 3.0]        667\n",
      "(3.0, 8.0]        561\n",
      "(10.0, inf]       285\n",
      "(8.0, 10.0]        27\n",
      "Name: NumberOfTimes90DaysLate_binned, dtype: int64\n",
      "[-inf, -13.0, -4.0, 5.0, 8.0, 11.0, 20.0, 29.0, inf]\n"
     ]
    },
    {
     "data": {
      "image/png": "[encoded data removed]",
      "text/plain": [
       "<Figure size 432x288 with 1 Axes>"
      ]
     },
     "metadata": {
      "needs_background": "light"
     },
     "output_type": "display_data"
    }
   ],
   "source": [
    "data['NumberOfTimes90DaysLate_binned']=pd.cut(x = data['NumberOfTimes90DaysLate'],\n",
    "                        bins = [float('-inf'), 0, 1, 2, 3, 8, 10, float('inf')] \n",
    "                        )\n",
    "data['NumberOfTimes90DaysLate_binned'].value_counts(sort=False, dropna=False).plot.bar()\n",
    "print(data['NumberOfTimes90DaysLate_binned'].value_counts(dropna= False))\n",
    "print(bp_bins)"
   ]
  },
  {
   "cell_type": "code",
   "execution_count": 36,
   "metadata": {},
   "outputs": [
    {
     "data": {
      "text/plain": [
       "<matplotlib.axes._subplots.AxesSubplot at 0x2295f60bf70>"
      ]
     },
     "execution_count": 36,
     "metadata": {},
     "output_type": "execute_result"
    },
    {
     "data": {
      "image/png": "[encoded data removed]",
      "text/plain": [
       "<Figure size 432x288 with 1 Axes>"
      ]
     },
     "metadata": {
      "needs_background": "light"
     },
     "output_type": "display_data"
    }
   ],
   "source": [
    "data.groupby(['NumberOfTimes90DaysLate_binned',\"SeriousDlqin2yrs\"]).size().unstack().plot.bar()"
   ]
  },
  {
   "cell_type": "markdown",
   "metadata": {},
   "source": [
    "What worries me about this feature?: \n",
    "- Unbalanced feature\n",
    "- Highly informative > 1.\n",
    "- Leakage? three times of >90 events could be considered serious delinquency events.\n",
    "\n",
    "Treatment:\n",
    "- Encode"
   ]
  },
  {
   "cell_type": "markdown",
   "metadata": {},
   "source": [
    "### NumberRealEstateLoansOrLines\n",
    "Number of mortgage and real estate loans including home equity lines of credit."
   ]
  },
  {
   "cell_type": "code",
   "execution_count": 37,
   "metadata": {},
   "outputs": [
    {
     "data": {
      "text/plain": [
       "count    150000.000000\n",
       "mean          1.018240\n",
       "std           1.129771\n",
       "min           0.000000\n",
       "25%           0.000000\n",
       "50%           1.000000\n",
       "75%           2.000000\n",
       "max          54.000000\n",
       "Name: NumberRealEstateLoansOrLines, dtype: float64"
      ]
     },
     "execution_count": 37,
     "metadata": {},
     "output_type": "execute_result"
    }
   ],
   "source": [
    "data['NumberRealEstateLoansOrLines'].describe()"
   ]
  },
  {
   "cell_type": "markdown",
   "metadata": {},
   "source": [
    "Now this **is** some real feature, its range is among what is expected. 1 maybe 2 mortgages. You would expect delinquencies on these to be low. Nonetheless... this was 9 years ago we should be careful at assigning any expected value to our beliefs about this feature.\n"
   ]
  },
  {
   "cell_type": "code",
   "execution_count": 38,
   "metadata": {},
   "outputs": [
    {
     "data": {
      "text/plain": [
       "0     56188\n",
       "1     52338\n",
       "2     31522\n",
       "3      6300\n",
       "4      2170\n",
       "5       689\n",
       "6       320\n",
       "7       171\n",
       "8        93\n",
       "9        78\n",
       "10       37\n",
       "11       23\n",
       "12       18\n",
       "13       15\n",
       "14        7\n",
       "15        7\n",
       "16        4\n",
       "17        4\n",
       "25        3\n",
       "18        2\n",
       "19        2\n",
       "20        2\n",
       "23        2\n",
       "32        1\n",
       "21        1\n",
       "26        1\n",
       "29        1\n",
       "54        1\n",
       "Name: NumberRealEstateLoansOrLines, dtype: int64"
      ]
     },
     "execution_count": 38,
     "metadata": {},
     "output_type": "execute_result"
    }
   ],
   "source": [
    "data['NumberRealEstateLoansOrLines'].value_counts(dropna= False)"
   ]
  },
  {
   "cell_type": "code",
   "execution_count": 39,
   "metadata": {},
   "outputs": [
    {
     "data": {
      "text/plain": [
       "[-inf, -6.0, -3.0, 0.0, 1.0, 2.0, 5.0, 8.0, inf]"
      ]
     },
     "execution_count": 39,
     "metadata": {},
     "output_type": "execute_result"
    }
   ],
   "source": [
    "bp_bins = (BinSelection('NumberRealEstateLoansOrLines'))\n",
    "bp_bins"
   ]
  },
  {
   "cell_type": "code",
   "execution_count": 42,
   "metadata": {},
   "outputs": [
    {
     "name": "stdout",
     "output_type": "stream",
     "text": [
      "(-3.0, 0.0]     56188\n",
      "(0.0, 1.0]      52338\n",
      "(1.0, 2.0]      31522\n",
      "(2.0, 5.0]       9159\n",
      "(5.0, 8.0]        584\n",
      "(8.0, inf]        209\n",
      "(-6.0, -3.0]        0\n",
      "(-inf, -6.0]        0\n",
      "Name: NumberRealEstateLoansOrLines_binned, dtype: int64\n",
      "[-inf, -6.0, -3.0, 0.0, 1.0, 2.0, 5.0, 8.0, inf]\n"
     ]
    },
    {
     "data": {
      "image/png": "[encoded data removed]",
      "text/plain": [
       "<Figure size 432x288 with 1 Axes>"
      ]
     },
     "metadata": {
      "needs_background": "light"
     },
     "output_type": "display_data"
    }
   ],
   "source": [
    "data['NumberRealEstateLoansOrLines_binned']=pd.cut(x = data['NumberRealEstateLoansOrLines'],\n",
    "                        bins = bp_bins\n",
    "                        )\n",
    "data['NumberRealEstateLoansOrLines_binned'].value_counts(sort=False, dropna=False).plot.bar()\n",
    "print(data['NumberRealEstateLoansOrLines_binned'].value_counts(dropna= False))\n",
    "print(bp_bins)"
   ]
  },
  {
   "cell_type": "code",
   "execution_count": 43,
   "metadata": {},
   "outputs": [
    {
     "data": {
      "text/plain": [
       "<matplotlib.axes._subplots.AxesSubplot at 0x2295f7e1370>"
      ]
     },
     "execution_count": 43,
     "metadata": {},
     "output_type": "execute_result"
    },
    {
     "data": {
      "image/png": "[encoded data removed]",
      "text/plain": [
       "<Figure size 432x288 with 1 Axes>"
      ]
     },
     "metadata": {
      "needs_background": "light"
     },
     "output_type": "display_data"
    }
   ],
   "source": [
    "data.groupby(['NumberRealEstateLoansOrLines_binned',\"SeriousDlqin2yrs\"]).size().unstack().plot.bar()"
   ]
  },
  {
   "cell_type": "markdown",
   "metadata": {},
   "source": [
    "What worries me about this feature?\n",
    "- That everything seems normal. What am I missing?"
   ]
  },
  {
   "cell_type": "markdown",
   "metadata": {},
   "source": [
    "### NumberOfTime60-89DaysPastDueNotWorse\n",
    "Number of times borrower has been 60-89 days past due but no worse in the last 2 years."
   ]
  },
  {
   "cell_type": "code",
   "execution_count": null,
   "metadata": {},
   "outputs": [],
   "source": [
    "data['NumberOfTime60-89DaysPastDueNotWorse'].describe()"
   ]
  },
  {
   "cell_type": "code",
   "execution_count": null,
   "metadata": {},
   "outputs": [],
   "source": [
    "data['NumberOfTime60-89DaysPastDueNotWorse'].value_counts(dropna=False)"
   ]
  },
  {
   "cell_type": "code",
   "execution_count": null,
   "metadata": {},
   "outputs": [],
   "source": [
    "# Bin Selection\n",
    "bp_bins = (BinSelection('NumberOfTime60-89DaysPastDueNotWorse'))\n",
    "bp_bins"
   ]
  },
  {
   "cell_type": "code",
   "execution_count": null,
   "metadata": {},
   "outputs": [],
   "source": [
    "data['NumberOfTime60-89DaysPastDueNotWorse_binned']=pd.cut(x = data['NumberOfTime60-89DaysPastDueNotWorse'],\n",
    "                        bins = [float('-inf'), 0, 1, 2, 3, float('inf')] \n",
    "                        )\n",
    "data['NumberOfTime60-89DaysPastDueNotWorse_binned'].value_counts(sort=False, dropna=False).plot.bar()\n",
    "print(data['NumberOfTime60-89DaysPastDueNotWorse_binned'].value_counts(dropna= False))\n",
    "print(bp_bins)"
   ]
  },
  {
   "cell_type": "code",
   "execution_count": null,
   "metadata": {},
   "outputs": [],
   "source": [
    "data.groupby(['NumberOfTime60-89DaysPastDueNotWorse_binned',\"SeriousDlqin2yrs\"]).size().unstack().plot.bar(figsize=(8, 6))"
   ]
  },
  {
   "cell_type": "markdown",
   "metadata": {},
   "source": [
    "What worries me about this feature?: \n",
    "- Unbalanced feature\n",
    "- Highly informative > 1.\n",
    "- Leakage? three times of >90 events could be considered serious delinquency events.\n",
    "\n",
    "Treatment:\n",
    "- Encode"
   ]
  },
  {
   "cell_type": "markdown",
   "metadata": {},
   "source": [
    "### Calculate Pearson Correlation\n"
   ]
  },
  {
   "cell_type": "code",
   "execution_count": null,
   "metadata": {},
   "outputs": [],
   "source": [
    "# Displays last column of Pearson correaltion matrix as a Pandas DataFrame\n",
    "pd.DataFrame(data.corr()['SeriousDlqin2yrs']).iloc[:-1]"
   ]
  },
  {
   "cell_type": "markdown",
   "metadata": {},
   "source": [
    "This is why we perform our correlation analysis **after** taking a closer look to the dataset. We know that there are instances which revolving utilization will help out distinguish delinquency events."
   ]
  },
  {
   "cell_type": "markdown",
   "metadata": {},
   "source": [
    "## EDA Recap or better: What worries me about my features?\n",
    "- **RevolvingUtilizationOfUnsecuredLines**\n",
    "    - Negative numbers on utilization are not feasible (Solved)\n",
    "    - Numbers greater than 1 seem troublesome from a financial point perspective. (Associated with target)\n",
    "    - High Utilization of revolving products does suggest an increase on the target feature\n",
    "- **Age**\n",
    "    - People Below legal age (Only 1 case)\n",
    "    - 90+ population (Cap at 90)\n",
    "    - Relationship follows literature on agent financial life cycle\n",
    "- **NumberOfTime30-59DaysPastDueNotWorse**\n",
    "    - Extremely unbalanced, 130k+ records display a value of 0 (Again, kudos to the risk evaluation team)\n",
    "    - It does seem to suggest that the proportion of events on each bin increase is related to an increase in Delinquency events among the population.\n",
    "    - 96, 98 seem to be some sort of code. We need to create new features for these values.\n",
    "- **DebtRatio** \n",
    "    - Non informative feature, proportion of target does not seem to relate on a linear fashion among bins\n",
    "    - Construction problems. By dividing by an unreliable feature we have really high debt to income ratios that are driven mainly by Nan\n",
    "    - Feature treatment: bin, normalize, separate non informative by nulls\n",
    "- **MonthlyIncome**\n",
    "    - Absurd amount of nulls.\n",
    "    - Suspected outliers around 15k+ \n",
    "    - Strong suspect of Outliers at 22k+\n",
    "    - Feature treatment:\n",
    "        - Null treatment\n",
    "        - Stze\n",
    "        - Relate Nan values of debt ratio to median. in case of null income.\n",
    "- **NumberOfOpenCreditLinesAndLoans**\n",
    "    - More than 11 open lines? this is just way too much. Is this per household , even then?\n",
    "    - Non linear relationship with target. Low Open lines could men less income therefore more delinquency events?\n",
    "    - No null events. Possible aggregation across time errors. maybe card renewals?\n",
    "    - Feature treatment: \n",
    "        - Separate feature space >11. \n",
    "        - Treat >29 as outlier\n",
    "        - stdize.\n",
    "- **NumberOfTimes90DaysLate** \n",
    "    - Unbalanced feature\n",
    "    - Highly informative > 1.\n",
    "    - Leakage? three times of >90 events could be considered serious delinquency events.\n",
    "    - Treatment:\n",
    "        - Encode\n",
    "- **NumberRealEstateLoansOrLines**\n",
    "    - Everything seems normal. What am I missing?\n",
    "- **NumberOfTime60-89DaysPastDueNotWorse**\n",
    "    - Unbalanced feature\n",
    "    - Highly informative > 1.\n",
    "    - Treatment:\n",
    "        - Encode"
   ]
  }
 ],
 "metadata": {
  "kernelspec": {
   "display_name": "Python 3",
   "language": "python",
   "name": "python3"
  },
  "language_info": {
   "codemirror_mode": {
    "name": "ipython",
    "version": 3
   },
   "file_extension": ".py",
   "mimetype": "text/x-python",
   "name": "python",
   "nbconvert_exporter": "python",
   "pygments_lexer": "ipython3",
   "version": "3.8.3"
  }
 },
 "nbformat": 4,
 "nbformat_minor": 4
}
